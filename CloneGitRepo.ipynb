{
  "nbformat": 4,
  "nbformat_minor": 0,
  "metadata": {
    "colab": {
      "name": "CloneGitRepo.ipynb",
      "provenance": [],
      "authorship_tag": "ABX9TyPQ/KYXH2cBjvzGYUTyT2Lu",
      "include_colab_link": true
    },
    "kernelspec": {
      "name": "python3",
      "display_name": "Python 3"
    },
    "accelerator": "GPU"
  },
  "cells": [
    {
      "cell_type": "markdown",
      "metadata": {
        "id": "view-in-github",
        "colab_type": "text"
      },
      "source": [
        "<a href=\"https://colab.research.google.com/github/jamespaultg/Bart_T5-summarization/blob/master/CloneGitRepo.ipynb\" target=\"_parent\"><img src=\"https://colab.research.google.com/assets/colab-badge.svg\" alt=\"Open In Colab\"/></a>"
      ]
    },
    {
      "cell_type": "code",
      "metadata": {
        "id": "I9qDMrYeDlHx",
        "colab_type": "code",
        "colab": {
          "base_uri": "https://localhost:8080/",
          "height": 34
        },
        "outputId": "a1bea24b-bd9f-4f5a-c80b-21f65ba32f67"
      },
      "source": [
        "# https://towardsdatascience.com/downloading-datasets-into-google-drive-via-google-colab-bcb1b30b0166\n",
        "from google.colab import drive\n",
        "drive.mount('/content/drive', force_remount=True)"
      ],
      "execution_count": 9,
      "outputs": [
        {
          "output_type": "stream",
          "text": [
            "Mounted at /content/drive\n"
          ],
          "name": "stdout"
        }
      ]
    },
    {
      "cell_type": "code",
      "metadata": {
        "id": "ynzduyqYFgBf",
        "colab_type": "code",
        "outputId": "604e93cd-8043-46c7-fdc3-e2d3ec021747",
        "colab": {
          "base_uri": "https://localhost:8080/",
          "height": 136
        }
      },
      "source": [
        "!rm -r Bart_T5-summarization\n",
        "!git clone https://github.com/jamespaultg/Bart_T5-summarization/"
      ],
      "execution_count": 10,
      "outputs": [
        {
          "output_type": "stream",
          "text": [
            "rm: cannot remove 'Bart_T5-summarization': No such file or directory\n",
            "Cloning into 'Bart_T5-summarization'...\n",
            "remote: Enumerating objects: 62, done.\u001b[K\n",
            "remote: Counting objects: 100% (62/62), done.\u001b[K\n",
            "remote: Compressing objects: 100% (47/47), done.\u001b[K\n",
            "remote: Total 62 (delta 27), reused 35 (delta 12), pack-reused 0\u001b[K\n",
            "Unpacking objects: 100% (62/62), done.\n"
          ],
          "name": "stdout"
        }
      ]
    },
    {
      "cell_type": "code",
      "metadata": {
        "id": "6pR7vBddFnoj",
        "colab_type": "code",
        "colab": {}
      },
      "source": [
        "# pip install -U, --upgrade Upgrade all packages to the newest available version\n",
        "!pip install -U transformers -q\n",
        "!pip install -U torch -q\n",
        "!pip install flask -q\n",
        "!pip install flask-ngrok -q"
      ],
      "execution_count": 0,
      "outputs": []
    },
    {
      "cell_type": "code",
      "metadata": {
        "id": "6q8M92MbHsNW",
        "colab_type": "code",
        "outputId": "660b4082-1813-48c3-cdae-355a0bea7048",
        "colab": {
          "base_uri": "https://localhost:8080/",
          "height": 255
        }
      },
      "source": [
        "#ngrok provides a tunnelling so that your local-hosted server can be accessed from outside the machine over the internet.\n",
        "# https://ngrok.com/download\n",
        "! wget https://bin.equinox.io/c/4VmDzA7iaHb/ngrok-stable-linux-amd64.zip\n",
        "!unzip ngrok-stable-linux-amd64.zip"
      ],
      "execution_count": 12,
      "outputs": [
        {
          "output_type": "stream",
          "text": [
            "--2020-04-06 17:30:00--  https://bin.equinox.io/c/4VmDzA7iaHb/ngrok-stable-linux-amd64.zip\n",
            "Resolving bin.equinox.io (bin.equinox.io)... 52.4.250.149, 34.225.195.115, 34.235.245.236, ...\n",
            "Connecting to bin.equinox.io (bin.equinox.io)|52.4.250.149|:443... connected.\n",
            "HTTP request sent, awaiting response... 200 OK\n",
            "Length: 13773305 (13M) [application/octet-stream]\n",
            "Saving to: ‘ngrok-stable-linux-amd64.zip.2’\n",
            "\n",
            "ngrok-stable-linux- 100%[===================>]  13.13M  5.58MB/s    in 2.4s    \n",
            "\n",
            "2020-04-06 17:30:03 (5.58 MB/s) - ‘ngrok-stable-linux-amd64.zip.2’ saved [13773305/13773305]\n",
            "\n",
            "Archive:  ngrok-stable-linux-amd64.zip\n",
            "replace ngrok? [y]es, [n]o, [A]ll, [N]one, [r]ename: y\n",
            "  inflating: ngrok                   \n"
          ],
          "name": "stdout"
        }
      ]
    },
    {
      "cell_type": "markdown",
      "metadata": {
        "id": "NcVIq6OphMhX",
        "colab_type": "text"
      },
      "source": [
        "### Set the authorisation token for ngrok"
      ]
    },
    {
      "cell_type": "code",
      "metadata": {
        "id": "fvriS0TAIP_B",
        "colab_type": "code",
        "outputId": "8dcd578a-541e-42cb-fedd-10de2729309f",
        "colab": {
          "base_uri": "https://localhost:8080/",
          "height": 34
        }
      },
      "source": [
        "!./ngrok authtoken <<your-authorisaton-token>>"
      ],
      "execution_count": 0,
      "outputs": [
        {
          "output_type": "stream",
          "text": [
            "Authtoken saved to configuration file: /root/.ngrok2/ngrok.yml\n"
          ],
          "name": "stdout"
        }
      ]
    },
    {
      "cell_type": "code",
      "metadata": {
        "id": "yz9MO4bEWqCd",
        "colab_type": "code",
        "outputId": "48e4a7ee-db28-4d43-d760-935b96ce21cd",
        "colab": {
          "base_uri": "https://localhost:8080/",
          "height": 510
        }
      },
      "source": [
        "!python Bart_T5-summarization/app.py"
      ],
      "execution_count": 19,
      "outputs": [
        {
          "output_type": "stream",
          "text": [
            "2020-04-06 19:03:39.671951: I tensorflow/stream_executor/platform/default/dso_loader.cc:44] Successfully opened dynamic library libcudart.so.10.1\n",
            " * Serving Flask app \"app\" (lazy loading)\n",
            " * Environment: production\n",
            "\u001b[31m   WARNING: This is a development server. Do not use it in a production deployment.\u001b[0m\n",
            "\u001b[2m   Use a production WSGI server instead.\u001b[0m\n",
            " * Debug mode: off\n",
            " * Running on http://127.0.0.1:5000/ (Press CTRL+C to quit)\n",
            "Exception in thread Thread-1:\n",
            "Traceback (most recent call last):\n",
            "  File \"/usr/lib/python3.6/threading.py\", line 916, in _bootstrap_inner\n",
            "    self.run()\n",
            "  File \"/usr/lib/python3.6/threading.py\", line 1182, in run\n",
            "    self.function(*self.args, **self.kwargs)\n",
            "  File \"/usr/local/lib/python3.6/dist-packages/flask_ngrok.py\", line 70, in start_ngrok\n",
            "    ngrok_address = _run_ngrok()\n",
            "  File \"/usr/local/lib/python3.6/dist-packages/flask_ngrok.py\", line 38, in _run_ngrok\n",
            "    tunnel_url = j['tunnels'][0]['public_url']  # Do the parsing of the get\n",
            "IndexError: list index out of range\n",
            "\n",
            "127.0.0.1 - - [06/Apr/2020 19:07:13] \"\u001b[37mGET / HTTP/1.1\u001b[0m\" 200 -\n",
            "127.0.0.1 - - [06/Apr/2020 19:07:14] \"\u001b[37mGET /static/js/jquery-3.4.1.min.js HTTP/1.1\u001b[0m\" 200 -\n",
            "127.0.0.1 - - [06/Apr/2020 19:07:14] \"\u001b[37mGET /static/css/bootstrap.min.css HTTP/1.1\u001b[0m\" 200 -\n",
            "127.0.0.1 - - [06/Apr/2020 19:07:14] \"\u001b[37mGET /static/css/app.css HTTP/1.1\u001b[0m\" 200 -\n",
            "127.0.0.1 - - [06/Apr/2020 19:07:15] \"\u001b[37mGET /static/js/bootstrap.min.js HTTP/1.1\u001b[0m\" 200 -\n",
            "127.0.0.1 - - [06/Apr/2020 19:07:15] \"\u001b[37mGET /static/js/app.js HTTP/1.1\u001b[0m\" 200 -\n",
            "127.0.0.1 - - [06/Apr/2020 19:07:17] \"\u001b[33mGET /favicon.ico HTTP/1.1\u001b[0m\" 404 -\n",
            "127.0.0.1 - - [06/Apr/2020 19:07:22] \"\u001b[37mPOST /predict HTTP/1.1\u001b[0m\" 200 -\n",
            "127.0.0.1 - - [06/Apr/2020 19:08:29] \"\u001b[37mGET / HTTP/1.1\u001b[0m\" 200 -\n",
            "^C\n"
          ],
          "name": "stdout"
        }
      ]
    }
  ]
}