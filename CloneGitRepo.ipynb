{
  "nbformat": 4,
  "nbformat_minor": 0,
  "metadata": {
    "colab": {
      "name": "CloneGitRepo.ipynb",
      "provenance": [],
      "authorship_tag": "ABX9TyPQ/KYXH2cBjvzGYUTyT2Lu",
      "include_colab_link": true
    },
    "kernelspec": {
      "name": "python3",
      "display_name": "Python 3"
    },
    "accelerator": "GPU"
  },
  "cells": [
    {
      "cell_type": "markdown",
      "metadata": {
        "id": "view-in-github",
        "colab_type": "text"
      },
      "source": [
        "<a href=\"https://colab.research.google.com/github/jamespaultg/Bart_T5-summarization/blob/master/CloneGitRepo.ipynb\" target=\"_parent\"><img src=\"https://colab.research.google.com/assets/colab-badge.svg\" alt=\"Open In Colab\"/></a>"
      ]
    },
    {
      "cell_type": "code",
      "metadata": {
        "id": "I9qDMrYeDlHx",
        "colab_type": "code",
        "colab": {}
      },
      "source": [
        "# https://towardsdatascience.com/downloading-datasets-into-google-drive-via-google-colab-bcb1b30b0166\n",
        "from google.colab import drive\n",
        "drive.mount('/content/drive', force_remount=True)"
      ],
      "execution_count": 0,
      "outputs": []
    },
    {
      "cell_type": "code",
      "metadata": {
        "id": "ynzduyqYFgBf",
        "colab_type": "code",
        "colab": {}
      },
      "source": [
        "!rm -r Bart_T5-summarization\n",
        "!git clone https://github.com/jamespaultg/Bart_T5-summarization/"
      ],
      "execution_count": 0,
      "outputs": []
    },
    {
      "cell_type": "code",
      "metadata": {
        "id": "6pR7vBddFnoj",
        "colab_type": "code",
        "colab": {}
      },
      "source": [
        "# pip install -U, --upgrade Upgrade all packages to the newest available version\n",
        "!pip install -U transformers -q\n",
        "!pip install -U torch -q\n",
        "!pip install flask -q\n",
        "!pip install flask-ngrok -q"
      ],
      "execution_count": 0,
      "outputs": []
    },
    {
      "cell_type": "code",
      "metadata": {
        "id": "6q8M92MbHsNW",
        "colab_type": "code",
        "colab": {}
      },
      "source": [
        "#ngrok provides a tunnelling so that your local-hosted server can be accessed from outside the machine over the internet.\n",
        "# https://ngrok.com/download\n",
        "! wget https://bin.equinox.io/c/4VmDzA7iaHb/ngrok-stable-linux-amd64.zip\n",
        "!unzip ngrok-stable-linux-amd64.zip"
      ],
      "execution_count": 0,
      "outputs": []
    },
    {
      "cell_type": "markdown",
      "metadata": {
        "id": "NcVIq6OphMhX",
        "colab_type": "text"
      },
      "source": [
        "### Set the authorisation token for ngrok"
      ]
    },
    {
      "cell_type": "code",
      "metadata": {
        "id": "fvriS0TAIP_B",
        "colab_type": "code",
        "colab": {}
      },
      "source": [
        "!./ngrok authtoken <<your-authorisaton-token>>"
      ],
      "execution_count": 0,
      "outputs": []
    },
    {
      "cell_type": "code",
      "metadata": {
        "id": "yz9MO4bEWqCd",
        "colab_type": "code",
        "colab": {}
      },
      "source": [
        "!python Bart_T5-summarization/app.py"
      ],
      "execution_count": 0,
      "outputs": []
    }
  ]
}