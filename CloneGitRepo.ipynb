{
  "nbformat": 4,
  "nbformat_minor": 0,
  "metadata": {
    "colab": {
      "name": "CloneGitRepo.ipynb",
      "provenance": [],
      "authorship_tag": "ABX9TyOMqKkUKCq85OzY5/FnLsHo",
      "include_colab_link": true
    },
    "kernelspec": {
      "name": "python3",
      "display_name": "Python 3"
    },
    "accelerator": "GPU"
  },
  "cells": [
    {
      "cell_type": "markdown",
      "metadata": {
        "id": "view-in-github",
        "colab_type": "text"
      },
      "source": [
        "<a href=\"https://colab.research.google.com/github/jamespaultg/Bart_T5-summarization/blob/master/CloneGitRepo.ipynb\" target=\"_parent\"><img src=\"https://colab.research.google.com/assets/colab-badge.svg\" alt=\"Open In Colab\"/></a>"
      ]
    },
    {
      "cell_type": "markdown",
      "metadata": {
        "id": "gO1-58PvL6OY",
        "colab_type": "text"
      },
      "source": [
        "# **Text summarization**\n",
        "\n",
        "## Runs the Flask app from Google Colab\n",
        "---\n",
        "- Thanks to [Renato violin](https://www.linkedin.com/in/renato-violin-6681913b/) for building a Flask App to enable users to play around with Text summarization using BART and T5.\n",
        "- His original github repo is https://github.com/renatoviolin/Bart_T5-summarization\n",
        "- I changed the app.py to use ngrok and created this notebook that makes it easier for anyone to run this code in Google colab\n",
        "- Note: ngrok provides tunnelling so that your local-hosted server can be accessed from outside the machine over the internet. Please refer https://ngrok.com/product for more details\n"
      ]
    },
    {
      "cell_type": "markdown",
      "metadata": {
        "id": "wRW-ayqVJtzl",
        "colab_type": "text"
      },
      "source": [
        "Using ngrok"
      ]
    },
    {
      "cell_type": "code",
      "metadata": {
        "id": "ynzduyqYFgBf",
        "colab_type": "code",
        "colab": {}
      },
      "source": [
        "!rm -r Bart_T5-summarization\n",
        "!git clone https://github.com/jamespaultg/Bart_T5-summarization/"
      ],
      "execution_count": 0,
      "outputs": []
    },
    {
      "cell_type": "markdown",
      "metadata": {
        "id": "nAC27_AWJ3jN",
        "colab_type": "text"
      },
      "source": [
        "### Install the required libraries\n"
      ]
    },
    {
      "cell_type": "code",
      "metadata": {
        "id": "6pR7vBddFnoj",
        "colab_type": "code",
        "colab": {}
      },
      "source": [
        "# pip install -U, --upgrade Upgrade all packages to the newest available version\n",
        "! pip install -U transformers -q\n",
        "! pip install -U torch -q\n",
        "! pip install flask -q\n",
        "! pip install flask-ngrok -q"
      ],
      "execution_count": 0,
      "outputs": []
    },
    {
      "cell_type": "markdown",
      "metadata": {
        "id": "jcVNA4rgJ79G",
        "colab_type": "text"
      },
      "source": [
        "## Install **ngrok**\n",
        "- ngrok provides tunnelling so that your local-hosted server can be accessed from outside the machine over the internet.\n",
        "- Please sign-up to https://ngrok.com/ and get the **authentication token** which you will need in the next cell"
      ]
    },
    {
      "cell_type": "code",
      "metadata": {
        "id": "6q8M92MbHsNW",
        "colab_type": "code",
        "colab": {}
      },
      "source": [
        "# https://ngrok.com/download\n",
        "# download the latest ngrok file\n",
        "! wget -q https://bin.equinox.io/c/4VmDzA7iaHb/ngrok-stable-linux-amd64.zip -N\n",
        "! unzip -o ngrok-stable-linux-amd64.zip"
      ],
      "execution_count": 0,
      "outputs": []
    },
    {
      "cell_type": "markdown",
      "metadata": {
        "id": "NcVIq6OphMhX",
        "colab_type": "text"
      },
      "source": [
        "## Set the authorisation token for ngrok\n"
      ]
    },
    {
      "cell_type": "code",
      "metadata": {
        "id": "j487RlpoCR_C",
        "colab_type": "code",
        "colab": {}
      },
      "source": [
        "import getpass\n",
        "your_ngrok_auth_token =  getpass.getpass(\"Enter your ngrok authorisation token : \")\n",
        "!./ngrok authtoken {your_ngrok_auth_token}"
      ],
      "execution_count": 0,
      "outputs": []
    },
    {
      "cell_type": "markdown",
      "metadata": {
        "id": "pv1hAP0zKR5R",
        "colab_type": "text"
      },
      "source": [
        "## Run the Flask app\n",
        "- Copy the url that ends with **ngrok.io** and open that url in a browser to see the Flask app\n"
      ]
    },
    {
      "cell_type": "code",
      "metadata": {
        "id": "yz9MO4bEWqCd",
        "colab_type": "code",
        "colab": {}
      },
      "source": [
        "!python Bart_T5-summarization/app.py"
      ],
      "execution_count": 0,
      "outputs": []
    }
  ]
}